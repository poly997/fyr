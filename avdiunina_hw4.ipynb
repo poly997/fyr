{
 "cells": [
  {
   "cell_type": "markdown",
   "metadata": {},
   "source": [
    "# Алгоритмы интеллектуальной обработки больших объемов данных\n",
    "## Домашнее задание №4 - Метод k-средних, предобработка признаков\n"
   ]
  },
  {
   "cell_type": "markdown",
   "metadata": {},
   "source": [
    "###### <hr\\>\n",
    "**Общая информация**\n",
    "\n",
    "**Срок сдачи:** 25 апреля 2018, 06:00 <br\\>\n",
    "**Штраф за опоздание:** -2 балла после 06:00 25 апреля, -4 баллов после 06:00 2 мая, -6 баллов после 06:00 9 мая\n",
    "\n",
    "При отправлении ДЗ указывайте фамилию в названии файла<br\\>\n",
    "\n",
    "Используйте данный Ipython Notebook при оформлении домашнего задания.\n",
    "\n",
    "**Штрафные баллы:**\n",
    "\n",
    "1. Невыполнение PEP8 -1 балл\n",
    "2. Отсутствие фамилии в имени скрипта (скрипт должен называться по аналогии со stroykova_hw4.ipynb) -1 балл\n",
    "3. Все строчки должны быть выполнены. Нужно, чтобы output команды можно было увидеть уже в git'е. В противном случае -1 балл\n",
    "4. При оформлении ДЗ нужно пользоваться данным файлом в качестве шаблона. Не нужно удалять и видоизменять написанный код и текст. В противном случае -1 балл\n",
    "<hr\\>"
   ]
  },
  {
   "cell_type": "code",
   "execution_count": 41,
   "metadata": {},
   "outputs": [
    {
     "name": "stdout",
     "output_type": "stream",
     "text": [
      "The pycodestyle_magic extension is already loaded. To reload it, use:\n",
      "  %reload_ext pycodestyle_magic\n"
     ]
    }
   ],
   "source": [
    "import pandas as pd\n",
    "import numpy as np\n",
    "import matplotlib.pyplot as plt\n",
    "import sklearn.metrics\n",
    "\n",
    "%matplotlib inline\n",
    "\n",
    "plt.style.use('ggplot')\n",
    "plt.rcParams['figure.figsize'] = (12,5)\n",
    "plt.rcParams['font.size'] = 14\n",
    "plt.rcParams['legend.fontsize'] =  14\n",
    "\n",
    "%load_ext pycodestyle_magic"
   ]
  },
  {
   "cell_type": "markdown",
   "metadata": {},
   "source": [
    "# Имплементация K-means\n",
    "\n",
    "Пользуясь наработками выше, имплементируйте метод k-means.  \n",
    "При инициализации необходимо задавать количество кластеров, функцию расстояния между кластерами (для оригинального k-means - евклидово расстояние) и начальное состояние генератора случайных чисел.\n",
    "\n",
    "После обучения, среди атрибутов класса `Kmeans` должны появится\n",
    "* Метки кластеров для объектов\n",
    "* Координаты центройдов кластеров\n",
    "\n",
    "k-means - это алгоритм **кластеризации**, а не классификации, а посему метод `.predict()` в нем фактически не нужен, но он может возвращать метки ближайшего кластера для объектов."
   ]
  },
  {
   "cell_type": "markdown",
   "metadata": {},
   "source": [
    "###### Задание 1 (2 баллов)\n",
    "Имплементируйте метод k-means. Задание считается выполненным, если Ваша реализация работает быстрее реализации из sklearn.\n",
    "\n",
    "Теория для выполнения задания 2 и 3 остаётся на самостоятельное изучение. Теории немного и она совсем простая.\n",
    "\n",
    "###### Задание 2 (2 балла)\n",
    "Имплементируйте класс MiniBatchKMeans, который является классом наследником Kmeans.\n",
    "\n",
    "###### Задание 3 (2 балла)\n",
    "Превратите k-means в k-means++. Для этого нужно реализовать метод в классе Kmeans, который будет инициализировать более \"хорошие\" значения центроидов. Чтобы использовался метод k-means++, в параметр init необходимо передать строковое значение 'k-means' (по умолчанию 'random').\n",
    "\n",
    "###### Задание 4 (2 балла)\n",
    "В пункте \"Проверка корректности метода\" нужно нарисовать графики, которые показывают зависимость времени выполнения алгоритма от количества сэмплов. Графики должны быть  нарисованы для различных комбинаций реализаций алгоритма (k-means, k-means++, k-means с MiniBatchKMeans, k-means++ с MiniBatchKMeans). График достаточно построить на 5-10 точках.\n",
    "\n",
    "###### Задание 5 (2 балла)\n",
    "В пункте \"Применение K-means на реальных данных\" нужно сравнить различные реализации k-means (k-means, k-means++, k-means с MiniBatchKMeans, k-means++ с MiniBatchKMeans). После чего написать вывод, в котором должно быть объяснение того, почему один алгоритм оказался лучше остальных или почему не было выявлено лучшего алгоритма."
   ]
  },
  {
   "cell_type": "code",
   "execution_count": 82,
   "metadata": {},
   "outputs": [],
   "source": [
    "#%%pycodestyle\n",
    "\n",
    "\n",
    "class MyKmeans:\n",
    "\n",
    "    def __init__(self, k=2, metric='euclidean', max_iter=1000, random_state=None, init='random'):\n",
    "        \"\"\"\n",
    "        Инициализация метода\n",
    "        :k - количество кластеров\n",
    "        :metric - функция расстояния между объектами\n",
    "        :max_iter - максиальное количество итераций\n",
    "        :random_state - seed для инициализации генератора случайных чисел\n",
    "        \"\"\"\n",
    "\n",
    "        self.k = k\n",
    "        self.random_state = random_state\n",
    "        self.metric = metric\n",
    "        self.max_iter = max_iter\n",
    "        \n",
    "        if init == 'k-means++':\n",
    "            self.init_function = self.__init_proba\n",
    "        elif init == 'random':\n",
    "            self.init_function = self.__init_random\n",
    "        else:\n",
    "            print('Wrong init method name!')\n",
    "            raise\n",
    "\n",
    "    def __init_random(self, X):\n",
    "        self.centroids = X[np.random.choice(X.shape[0], self.k, replace=False)]\n",
    "\n",
    "    def __init_proba(self, X):\n",
    "        self.centroids[0] = X[np.random.choice(X.shape[0])]\n",
    "\n",
    "        for i in range(1, self.k):\n",
    "            distances = np.min(self.dist(X, self.centroids[:i]), axis=1)\n",
    "            rand_sum = np.random.uniform(0, 1) * distances.sum()\n",
    "            self.centroids[i] = X[np.cumsum(distances) > rand_sum][0]\n",
    "\n",
    "    @staticmethod\n",
    "    def dist(X, Y):\n",
    "        x_dist = (X ** 2).sum(axis=1)\n",
    "        y_dist = (Y ** 2).sum(axis=1)\n",
    "        xy_dist = X.dot(Y.T)\n",
    "        return - 2 * xy_dist + y_dist + x_dist.reshape(-1, 1)\n",
    "\n",
    "    def fit(self, X, y=None):\n",
    "        \"\"\"\n",
    "        Процедура обучения k-means\n",
    "        \"\"\"\n",
    "\n",
    "        # Инициализация генератора случайных чисел\n",
    "        np.random.seed(self.random_state)\n",
    "\n",
    "        # Массив с метками кластеров для каждого объекта из X\n",
    "        self.labels = np.empty(X.shape[0])\n",
    "\n",
    "        # Массив с центройдами кластеров\n",
    "        self.centroids = np.empty((self.k, X.shape[1]))\n",
    "\n",
    "        # Your Code Here\n",
    "        self.init_function(X)\n",
    "        centroids = np.ones((self.k, X.shape[1]))\n",
    "\n",
    "        for iteration in range(self.max_iter):\n",
    "            distances = self.dist(self.centroids, X)\n",
    "            self.labels = np.argmin(distances, axis=0)\n",
    "            centroids = [np.mean(X[self.labels == label], axis=0) for label in range(self.k)]\n",
    "            if np.array_equal(centroids, self.centroids):\n",
    "                break\n",
    "            self.centroids = np.copy(centroids)\n",
    "\n",
    "        return self\n",
    "\n",
    "    def predict(self, X, y=None):\n",
    "        \"\"\"\n",
    "        Процедура предсказания кластера\n",
    "\n",
    "        Возвращает метку ближайшего кластера для каждого объекта\n",
    "        \"\"\"\n",
    "        distances = self.dist(self.centroids, X)\n",
    "        labels = np.argmin(distances, axis=0)\n",
    "\n",
    "        return labels\n",
    "\n",
    "\n",
    "class MiniBatchKMeans(MyKmeans):\n",
    "\n",
    "    def __init__(self, *args, **kwargs):\n",
    "\n",
    "        self.mbatch_size = 10\n",
    "        self.eps = 1\n",
    "        if 'mbatch_size' in kwargs:\n",
    "            self.mbatch_size = kwargs.pop('mbatch_size')\n",
    "        if 'eps' in kwargs:\n",
    "            self.eps = kwargs.pop('eps')\n",
    "        super(MiniBatchKMeans, self).__init__(*args, **kwargs)\n",
    "\n",
    "    def fit(self, X):\n",
    "        \"\"\"\n",
    "        Обучение\n",
    "        \"\"\"\n",
    "\n",
    "        # Инициализация генератора случайных чисел\n",
    "        np.random.seed(self.random_state)\n",
    "\n",
    "        # Массив с метками кластеров для каждого объекта из X\n",
    "        self.labels = np.empty(self.mbatch_size)\n",
    "\n",
    "        # Массив с центройдами кластеров\n",
    "        self.centroids = np.empty((self.k, X.shape[1]))\n",
    "\n",
    "        # Your Code Here\n",
    "        self.init_function(X)\n",
    "        centroids = np.ones((self.k, X.shape[1]))\n",
    "\n",
    "        v = np.zeros(self.k)\n",
    "\n",
    "        for iteration in range(self.max_iter):\n",
    "            M = X[np.random.choice(X.shape[0], self.mbatch_size, replace=False)]\n",
    "            distances = self.dist(self.centroids, M)\n",
    "            self.labels = np.argmin(distances, axis=0)\n",
    "            for i, x in enumerate(M):\n",
    "                v[self.labels[i]] += 1\n",
    "                lr = 1 / v[self.labels[i]]\n",
    "                self.centroids[self.labels[i]] = (1 - lr) * self.centroids[self.labels[i]] + lr * x\n",
    "            if np.linalg.norm(centroids - self.centroids) < self.eps:\n",
    "                break\n",
    "            centroids = np.copy(self.centroids)\n",
    "\n",
    "        return self"
   ]
  },
  {
   "cell_type": "markdown",
   "metadata": {},
   "source": [
    "### Проверка корректности метода\n",
    "\n",
    "Перед тем как применять алгоритм на реальных данных, нужно испытать его на простых \"игрушечных\" данных.\n",
    "\n",
    "Если алгоритм реализован правильно, то метод должен идеально разбивать на 3 кластера данные ниже. Проверьте это.\n",
    "\n",
    "ВНИМАНИЕ! Проверка должна быть осуществлена на всех реализациях, иначе реализация не будет зачтена!"
   ]
  },
  {
   "cell_type": "code",
   "execution_count": 83,
   "metadata": {},
   "outputs": [],
   "source": [
    "from sklearn.datasets import make_blobs"
   ]
  },
  {
   "cell_type": "code",
   "execution_count": 84,
   "metadata": {},
   "outputs": [],
   "source": [
    "X, y = make_blobs(n_samples=100, n_features=2, centers=3, cluster_std=1, \n",
    "           center_box=(-10.0, 10.0), shuffle=False, random_state=1234)"
   ]
  },
  {
   "cell_type": "code",
   "execution_count": 85,
   "metadata": {},
   "outputs": [
    {
     "data": {
      "image/png": "[encoded data removed]",
      "text/plain": [
       "<Figure size 864x360 with 1 Axes>"
      ]
     },
     "metadata": {},
     "output_type": "display_data"
    }
   ],
   "source": [
    "plt.scatter(X[:,0], X[:, 1], c=y)\n",
    "plt.show()"
   ]
  },
  {
   "cell_type": "markdown",
   "metadata": {},
   "source": [
    "Проверьте Вашу имплементацию на простых данных (без этого пункта ДЗ не считается выполненным).   \n",
    "КОММЕНТАРИИ НЕ СТИРАТЬ!"
   ]
  },
  {
   "cell_type": "code",
   "execution_count": 86,
   "metadata": {},
   "outputs": [],
   "source": [
    "def test(model):\n",
    "    model.fit(X)\n",
    "    y_predict = model.predict(X)\n",
    "    for i in range(n_clusters):\n",
    "        plt.scatter(model.centroids[i][0], model.centroids[i][1], s=1000)\n",
    "    plt.scatter(X[:,0], X[:, 1], c=y_predict)\n",
    "    plt.show()"
   ]
  },
  {
   "cell_type": "code",
   "execution_count": 87,
   "metadata": {},
   "outputs": [
    {
     "data": {
      "image/png": "[encoded data removed]",
      "text/plain": [
       "<Figure size 864x360 with 1 Axes>"
      ]
     },
     "metadata": {},
     "output_type": "display_data"
    }
   ],
   "source": [
    "## Работоспособность MyKmeans\n",
    "test(MyKmeans(k=3))"
   ]
  },
  {
   "cell_type": "code",
   "execution_count": 88,
   "metadata": {},
   "outputs": [
    {
     "data": {
      "image/png": "[encoded data removed]",
      "text/plain": [
       "<Figure size 864x360 with 1 Axes>"
      ]
     },
     "metadata": {},
     "output_type": "display_data"
    }
   ],
   "source": [
    "## Работоспособность MyKmeans++\n",
    "test(MyKmeans(k=3, init='k-means++'))"
   ]
  },
  {
   "cell_type": "code",
   "execution_count": 89,
   "metadata": {},
   "outputs": [
    {
     "data": {
      "image/png": "[encoded data removed]",
      "text/plain": [
       "<Figure size 864x360 with 1 Axes>"
      ]
     },
     "metadata": {},
     "output_type": "display_data"
    }
   ],
   "source": [
    "## Работоспособность MyKmeans с MiniBatchMyKmeans\n",
    "test(MiniBatchKMeans(k=3))"
   ]
  },
  {
   "cell_type": "code",
   "execution_count": 90,
   "metadata": {},
   "outputs": [
    {
     "data": {
      "image/png": "[encoded data removed]",
      "text/plain": [
       "<Figure size 864x360 with 1 Axes>"
      ]
     },
     "metadata": {},
     "output_type": "display_data"
    }
   ],
   "source": [
    "## Работоспособность MyKmeans++ с MiniBatchMyKmeans\n",
    "test(MiniBatchKMeans(k=3, init='k-means++'))"
   ]
  },
  {
   "cell_type": "code",
   "execution_count": 91,
   "metadata": {},
   "outputs": [],
   "source": [
    "def speed_test(model):\n",
    "    model.fit(X)\n",
    "    model.predict(X)"
   ]
  },
  {
   "cell_type": "code",
   "execution_count": 96,
   "metadata": {},
   "outputs": [],
   "source": [
    "## Время выполнения алгоритма Kmeans из sklearn\n",
    "from sklearn.cluster import KMeans"
   ]
  },
  {
   "cell_type": "code",
   "execution_count": 97,
   "metadata": {},
   "outputs": [
    {
     "name": "stdout",
     "output_type": "stream",
     "text": [
      "CPU times: user 20.3 ms, sys: 209 µs, total: 20.5 ms\n",
      "Wall time: 19.7 ms\n"
     ]
    }
   ],
   "source": [
    "%%time\n",
    "speed_test(KMeans(n_clusters=n_clusters))"
   ]
  },
  {
   "cell_type": "code",
   "execution_count": 98,
   "metadata": {},
   "outputs": [],
   "source": [
    "## Время выполнения алгоритма MyKmeans"
   ]
  },
  {
   "cell_type": "code",
   "execution_count": 99,
   "metadata": {},
   "outputs": [
    {
     "name": "stdout",
     "output_type": "stream",
     "text": [
      "CPU times: user 1.84 ms, sys: 266 µs, total: 2.11 ms\n",
      "Wall time: 1.54 ms\n"
     ]
    }
   ],
   "source": [
    "%%time\n",
    "speed_test(MyKmeans(k=n_clusters))"
   ]
  },
  {
   "cell_type": "code",
   "execution_count": 100,
   "metadata": {},
   "outputs": [],
   "source": [
    "## Время выполнения алгоритма MyKmeans++"
   ]
  },
  {
   "cell_type": "code",
   "execution_count": 101,
   "metadata": {},
   "outputs": [
    {
     "name": "stdout",
     "output_type": "stream",
     "text": [
      "CPU times: user 2.26 ms, sys: 0 ns, total: 2.26 ms\n",
      "Wall time: 1.63 ms\n"
     ]
    }
   ],
   "source": [
    "%%time\n",
    "speed_test(MyKmeans(k=n_clusters, init='k-means++'))"
   ]
  },
  {
   "cell_type": "code",
   "execution_count": 102,
   "metadata": {},
   "outputs": [],
   "source": [
    "## Время выполнения алгоритма MyKmeans с MiniBatchMyKmeans"
   ]
  },
  {
   "cell_type": "code",
   "execution_count": 103,
   "metadata": {},
   "outputs": [
    {
     "name": "stdout",
     "output_type": "stream",
     "text": [
      "CPU times: user 1.63 ms, sys: 988 µs, total: 2.62 ms\n",
      "Wall time: 1.87 ms\n"
     ]
    }
   ],
   "source": [
    "%%time\n",
    "speed_test(MiniBatchKMeans(k=n_clusters))"
   ]
  },
  {
   "cell_type": "code",
   "execution_count": 104,
   "metadata": {},
   "outputs": [],
   "source": [
    "## Время выполнения алгоритма  MyKmeans++ с MiniBatchMyKmeans"
   ]
  },
  {
   "cell_type": "code",
   "execution_count": 105,
   "metadata": {},
   "outputs": [
    {
     "name": "stdout",
     "output_type": "stream",
     "text": [
      "CPU times: user 3.89 ms, sys: 0 ns, total: 3.89 ms\n",
      "Wall time: 3.08 ms\n"
     ]
    }
   ],
   "source": [
    "%%time\n",
    "speed_test(MiniBatchKMeans(k=n_clusters, init='k-means++'))"
   ]
  },
  {
   "cell_type": "code",
   "execution_count": 107,
   "metadata": {},
   "outputs": [
    {
     "data": {
      "image/png": "[encoded data removed]",
      "text/plain": [
       "<Figure size 864x360 with 1 Axes>"
      ]
     },
     "metadata": {},
     "output_type": "display_data"
    }
   ],
   "source": [
    "import timeit, functools\n",
    "\n",
    "n = [100, 1000, 2000, 5000, 10000]\n",
    "algs = ['sklearn', 'k-means', 'k-means++', 'MiniBatch', 'MiniBatch++']\n",
    "time = [[], [], [], [], []]\n",
    "models = [KMeans(n_clusters=n_clusters), MyKmeans(k=n_clusters), MyKmeans(k=n_clusters, init='k-means++')\n",
    "          , MiniBatchKMeans(k=n_clusters), MiniBatchKMeans(k=n_clusters, init='k-means++')]\n",
    "\n",
    "num_of_launch = 25\n",
    "\n",
    "for n_samples in n:\n",
    "    X, y = make_blobs(n_samples=n_samples, n_features=2, centers=3, cluster_std=1, \n",
    "               center_box=(-10.0, 10.0), shuffle=False, random_state=1234)\n",
    "    for i, model in enumerate(models):\n",
    "        t = timeit.Timer(functools.partial(speed_test, model)) \n",
    "        time[i].append(t.timeit(num_of_launch))\n",
    "\n",
    "for i,alg in enumerate(algs):\n",
    "    plt.plot(n, time[i], label=alg)\n",
    "\n",
    "plt.xlabel('Size')\n",
    "plt.ylabel('Seconds')\n",
    "plt.legend()\n",
    "plt.show()"
   ]
  },
  {
   "cell_type": "markdown",
   "metadata": {},
   "source": [
    "# Применение K-means на реальных данных"
   ]
  },
  {
   "cell_type": "markdown",
   "metadata": {},
   "source": [
    "Загрузите [данные](https://github.com/brenden17/sklearnlab/blob/master/facebook/snsdata.csv) в которых содержится описание интересов профилей учеников старшей школы США.  (без этого пункта задание не считается выполненным).   \n",
    "ВНИМАНИЕ! Проверка должна быть осуществлена на всех реализациях, иначе реализация не будет зачтена!"
   ]
  },
  {
   "cell_type": "code",
   "execution_count": 24,
   "metadata": {},
   "outputs": [
    {
     "data": {
      "text/html": [
       "<div>\n",
       "<style>\n",
       "    .dataframe thead tr:only-child th {\n",
       "        text-align: right;\n",
       "    }\n",
       "\n",
       "    .dataframe thead th {\n",
       "        text-align: left;\n",
       "    }\n",
       "\n",
       "    .dataframe tbody tr th {\n",
       "        vertical-align: top;\n",
       "    }\n",
       "</style>\n",
       "<table border=\"1\" class=\"dataframe\">\n",
       "  <thead>\n",
       "    <tr style=\"text-align: right;\">\n",
       "      <th></th>\n",
       "      <th>gradyear</th>\n",
       "      <th>gender</th>\n",
       "      <th>age</th>\n",
       "      <th>friends</th>\n",
       "      <th>basketball</th>\n",
       "      <th>football</th>\n",
       "      <th>soccer</th>\n",
       "      <th>softball</th>\n",
       "      <th>volleyball</th>\n",
       "      <th>swimming</th>\n",
       "      <th>...</th>\n",
       "      <th>blonde</th>\n",
       "      <th>mall</th>\n",
       "      <th>shopping</th>\n",
       "      <th>clothes</th>\n",
       "      <th>hollister</th>\n",
       "      <th>abercrombie</th>\n",
       "      <th>die</th>\n",
       "      <th>death</th>\n",
       "      <th>drunk</th>\n",
       "      <th>drugs</th>\n",
       "    </tr>\n",
       "  </thead>\n",
       "  <tbody>\n",
       "    <tr>\n",
       "      <th>0</th>\n",
       "      <td>2006</td>\n",
       "      <td>M</td>\n",
       "      <td>18.982</td>\n",
       "      <td>7</td>\n",
       "      <td>0</td>\n",
       "      <td>0</td>\n",
       "      <td>0</td>\n",
       "      <td>0</td>\n",
       "      <td>0</td>\n",
       "      <td>0</td>\n",
       "      <td>...</td>\n",
       "      <td>0</td>\n",
       "      <td>0</td>\n",
       "      <td>0</td>\n",
       "      <td>0</td>\n",
       "      <td>0</td>\n",
       "      <td>0</td>\n",
       "      <td>0</td>\n",
       "      <td>0</td>\n",
       "      <td>0</td>\n",
       "      <td>0</td>\n",
       "    </tr>\n",
       "    <tr>\n",
       "      <th>1</th>\n",
       "      <td>2006</td>\n",
       "      <td>F</td>\n",
       "      <td>18.801</td>\n",
       "      <td>0</td>\n",
       "      <td>0</td>\n",
       "      <td>1</td>\n",
       "      <td>0</td>\n",
       "      <td>0</td>\n",
       "      <td>0</td>\n",
       "      <td>0</td>\n",
       "      <td>...</td>\n",
       "      <td>0</td>\n",
       "      <td>1</td>\n",
       "      <td>0</td>\n",
       "      <td>0</td>\n",
       "      <td>0</td>\n",
       "      <td>0</td>\n",
       "      <td>0</td>\n",
       "      <td>0</td>\n",
       "      <td>0</td>\n",
       "      <td>0</td>\n",
       "    </tr>\n",
       "    <tr>\n",
       "      <th>2</th>\n",
       "      <td>2006</td>\n",
       "      <td>M</td>\n",
       "      <td>18.335</td>\n",
       "      <td>69</td>\n",
       "      <td>0</td>\n",
       "      <td>1</td>\n",
       "      <td>0</td>\n",
       "      <td>0</td>\n",
       "      <td>0</td>\n",
       "      <td>0</td>\n",
       "      <td>...</td>\n",
       "      <td>0</td>\n",
       "      <td>0</td>\n",
       "      <td>0</td>\n",
       "      <td>0</td>\n",
       "      <td>0</td>\n",
       "      <td>0</td>\n",
       "      <td>0</td>\n",
       "      <td>1</td>\n",
       "      <td>0</td>\n",
       "      <td>0</td>\n",
       "    </tr>\n",
       "    <tr>\n",
       "      <th>3</th>\n",
       "      <td>2006</td>\n",
       "      <td>F</td>\n",
       "      <td>18.875</td>\n",
       "      <td>0</td>\n",
       "      <td>0</td>\n",
       "      <td>0</td>\n",
       "      <td>0</td>\n",
       "      <td>0</td>\n",
       "      <td>0</td>\n",
       "      <td>0</td>\n",
       "      <td>...</td>\n",
       "      <td>0</td>\n",
       "      <td>0</td>\n",
       "      <td>0</td>\n",
       "      <td>0</td>\n",
       "      <td>0</td>\n",
       "      <td>0</td>\n",
       "      <td>0</td>\n",
       "      <td>0</td>\n",
       "      <td>0</td>\n",
       "      <td>0</td>\n",
       "    </tr>\n",
       "    <tr>\n",
       "      <th>4</th>\n",
       "      <td>2006</td>\n",
       "      <td>NaN</td>\n",
       "      <td>18.995</td>\n",
       "      <td>10</td>\n",
       "      <td>0</td>\n",
       "      <td>0</td>\n",
       "      <td>0</td>\n",
       "      <td>0</td>\n",
       "      <td>0</td>\n",
       "      <td>0</td>\n",
       "      <td>...</td>\n",
       "      <td>0</td>\n",
       "      <td>0</td>\n",
       "      <td>2</td>\n",
       "      <td>0</td>\n",
       "      <td>0</td>\n",
       "      <td>0</td>\n",
       "      <td>0</td>\n",
       "      <td>0</td>\n",
       "      <td>1</td>\n",
       "      <td>1</td>\n",
       "    </tr>\n",
       "  </tbody>\n",
       "</table>\n",
       "<p>5 rows × 40 columns</p>\n",
       "</div>"
      ],
      "text/plain": [
       "   gradyear gender     age  friends  basketball  football  soccer  softball  \\\n",
       "0      2006      M  18.982        7           0         0       0         0   \n",
       "1      2006      F  18.801        0           0         1       0         0   \n",
       "2      2006      M  18.335       69           0         1       0         0   \n",
       "3      2006      F  18.875        0           0         0       0         0   \n",
       "4      2006    NaN  18.995       10           0         0       0         0   \n",
       "\n",
       "   volleyball  swimming  ...    blonde  mall  shopping  clothes  hollister  \\\n",
       "0           0         0  ...         0     0         0        0          0   \n",
       "1           0         0  ...         0     1         0        0          0   \n",
       "2           0         0  ...         0     0         0        0          0   \n",
       "3           0         0  ...         0     0         0        0          0   \n",
       "4           0         0  ...         0     0         2        0          0   \n",
       "\n",
       "   abercrombie  die  death  drunk  drugs  \n",
       "0            0    0      0      0      0  \n",
       "1            0    0      0      0      0  \n",
       "2            0    0      1      0      0  \n",
       "3            0    0      0      0      0  \n",
       "4            0    0      0      1      1  \n",
       "\n",
       "[5 rows x 40 columns]"
      ]
     },
     "execution_count": 24,
     "metadata": {},
     "output_type": "execute_result"
    }
   ],
   "source": [
    "df_sns = pd.read_csv('snsdata.csv', sep=',')"
   ]
  },
  {
   "cell_type": "markdown",
   "metadata": {},
   "source": [
    "Данные устроены так: \n",
    "* Год выпуска\n",
    "* Пол\n",
    "* Возраст\n",
    "* Количество друзей\n",
    "* 36 ключевых слов, которые встречаются в профилe facebook (интересы, сообщества, встречи)"
   ]
  },
  {
   "cell_type": "markdown",
   "metadata": {},
   "source": [
    "* Удалите все признаки кроме 36 ключевых слов.\n",
    "* Нормализуйте данные - из каждого столбца вычтите его среднее значение и поделите на стандартное отклонение.\n",
    "* Используйте метод k-means чтобы выделить 9 кластеров\n",
    "* Попробуйте проинтерпретировать каждый кластер проанализировав полученные центройды (Некоторые кластеры могут быть очень большие и очень маленькие - плохо интерпретируются)   \n",
    "КОММЕНТАРИИ НЕ СТИРАТЬ!"
   ]
  },
  {
   "cell_type": "code",
   "execution_count": 25,
   "metadata": {
    "collapsed": true
   },
   "outputs": [],
   "source": [
    "n_clusters=9\n",
    "top_n=5"
   ]
  },
  {
   "cell_type": "code",
   "execution_count": 26,
   "metadata": {
    "collapsed": true
   },
   "outputs": [],
   "source": [
    "sns = df_sns.drop(df_sns.columns[:4], axis=1)\n",
    "sns = (sns - sns.mean(axis=0)) / sns.std(axis=0)"
   ]
  },
  {
   "cell_type": "code",
   "execution_count": 27,
   "metadata": {},
   "outputs": [],
   "source": [
    "def prediction(model):\n",
    "    model.fit(sns.values)\n",
    "    y = model.predict(sns.values)\n",
    "    labeled_sns = sns\n",
    "    labeled_sns.loc[:, 'label'] = y\n",
    "    \n",
    "    for (c, group) in labeled_sns.groupby('label'):\n",
    "        print('Cluster: %d' % c)\n",
    "        print('Size: %d' % len(group))\n",
    "        print(group.iloc[:,:-1].mean().nlargest(top_n))\n",
    "        print(\"=\" * 10 + '\\n')"
   ]
  },
  {
   "cell_type": "code",
   "execution_count": 28,
   "metadata": {
    "collapsed": true
   },
   "outputs": [],
   "source": [
    "## MyKMeans"
   ]
  },
  {
   "cell_type": "code",
   "execution_count": 35,
   "metadata": {},
   "outputs": [
    {
     "name": "stdout",
     "output_type": "stream",
     "text": [
      "Cluster: 0\n",
      "Size: 2954\n",
      "shopping    1.142715\n",
      "cute        0.978839\n",
      "dance       0.891625\n",
      "mall        0.827502\n",
      "clothes     0.775926\n",
      "dtype: float64\n",
      "==========\n",
      "\n",
      "Cluster: 1\n",
      "Size: 356\n",
      "volleyball    6.957456\n",
      "softball      0.697258\n",
      "basketball    0.638201\n",
      "sports        0.418425\n",
      "shopping      0.354161\n",
      "dtype: float64\n",
      "==========\n",
      "\n",
      "Cluster: 2\n",
      "Size: 1073\n",
      "kissed    2.845765\n",
      "drugs     2.535856\n",
      "hair      2.422176\n",
      "sex       1.897368\n",
      "drunk     1.741023\n",
      "dtype: float64\n",
      "==========\n",
      "\n",
      "Cluster: 3\n",
      "Size: 807\n",
      "hollister      4.186576\n",
      "abercrombie    4.005778\n",
      "shopping       0.746051\n",
      "mall           0.536630\n",
      "clothes        0.522155\n",
      "dtype: float64\n",
      "==========\n",
      "\n",
      "Cluster: 4\n",
      "Size: 233\n",
      "baseball      8.387071\n",
      "football      1.060031\n",
      "basketball    0.830474\n",
      "sports        0.723274\n",
      "rock          0.389064\n",
      "dtype: float64\n",
      "==========\n",
      "\n",
      "Cluster: 5\n",
      "Size: 454\n",
      "bible     4.911422\n",
      "jesus     3.343942\n",
      "god       3.134924\n",
      "church    2.023860\n",
      "death     0.348645\n",
      "dtype: float64\n",
      "==========\n",
      "\n",
      "Cluster: 6\n",
      "Size: 580\n",
      "marching    5.275589\n",
      "band        4.162814\n",
      "music       0.525979\n",
      "rock        0.176792\n",
      "football    0.067625\n",
      "dtype: float64\n",
      "==========\n",
      "\n",
      "Cluster: 7\n",
      "Size: 20683\n",
      "blonde   -0.027860\n",
      "hot      -0.045859\n",
      "tennis   -0.050346\n",
      "death    -0.070364\n",
      "sexy     -0.071253\n",
      "dtype: float64\n",
      "==========\n",
      "\n",
      "Cluster: 8\n",
      "Size: 2860\n",
      "football      1.225597\n",
      "basketball    1.198553\n",
      "softball      0.966631\n",
      "sports        0.959478\n",
      "soccer        0.871771\n",
      "dtype: float64\n",
      "==========\n",
      "\n",
      "Wall time: 1 s\n"
     ]
    }
   ],
   "source": [
    "%%time\n",
    "prediction(MyKmeans(k=n_clusters))"
   ]
  },
  {
   "cell_type": "code",
   "execution_count": 30,
   "metadata": {
    "collapsed": true
   },
   "outputs": [],
   "source": [
    "## MyKMeans++"
   ]
  },
  {
   "cell_type": "code",
   "execution_count": 36,
   "metadata": {},
   "outputs": [
    {
     "name": "stdout",
     "output_type": "stream",
     "text": [
      "Cluster: 0\n",
      "Size: 20973\n",
      "marching    0.016026\n",
      "band       -0.024825\n",
      "blonde     -0.027860\n",
      "tennis     -0.050787\n",
      "hot        -0.056541\n",
      "dtype: float64\n",
      "==========\n",
      "\n",
      "Cluster: 1\n",
      "Size: 389\n",
      "volleyball    6.778087\n",
      "softball      0.650898\n",
      "basketball    0.622964\n",
      "shopping      0.417630\n",
      "sports        0.395923\n",
      "dtype: float64\n",
      "==========\n",
      "\n",
      "Cluster: 2\n",
      "Size: 3814\n",
      "shopping       1.053869\n",
      "cute           0.853644\n",
      "mall           0.781726\n",
      "abercrombie    0.757674\n",
      "hollister      0.746647\n",
      "dtype: float64\n",
      "==========\n",
      "\n",
      "Cluster: 3\n",
      "Size: 98\n",
      "die      9.230956\n",
      "death    4.994750\n",
      "hair     0.953426\n",
      "god      0.945034\n",
      "sexy     0.833822\n",
      "dtype: float64\n",
      "==========\n",
      "\n",
      "Cluster: 4\n",
      "Size: 585\n",
      "kissed     4.747669\n",
      "hair       2.965566\n",
      "sex        2.705975\n",
      "rock       1.812091\n",
      "clothes    1.718398\n",
      "dtype: float64\n",
      "==========\n",
      "\n",
      "Cluster: 5\n",
      "Size: 542\n",
      "bible     4.583917\n",
      "god       1.944714\n",
      "jesus     1.859452\n",
      "church    1.686771\n",
      "music     0.243221\n",
      "dtype: float64\n",
      "==========\n",
      "\n",
      "Cluster: 6\n",
      "Size: 379\n",
      "drugs    5.712719\n",
      "drunk    2.582569\n",
      "hair     1.989415\n",
      "die      1.264203\n",
      "sex      1.140508\n",
      "dtype: float64\n",
      "==========\n",
      "\n",
      "Cluster: 7\n",
      "Size: 3193\n",
      "football      1.222539\n",
      "basketball    1.133093\n",
      "sports        0.924826\n",
      "softball      0.882469\n",
      "baseball      0.827764\n",
      "dtype: float64\n",
      "==========\n",
      "\n",
      "Cluster: 8\n",
      "Size: 27\n",
      "jesus     18.908147\n",
      "god       13.771073\n",
      "bible      9.668771\n",
      "church     1.567559\n",
      "death      1.179948\n",
      "dtype: float64\n",
      "==========\n",
      "\n",
      "Wall time: 1.61 s\n"
     ]
    }
   ],
   "source": [
    "%%time\n",
    "prediction(MyKmeans(k=n_clusters, init='k-means++'))"
   ]
  },
  {
   "cell_type": "code",
   "execution_count": null,
   "metadata": {},
   "outputs": [],
   "source": [
    "## MyKMeans с MiniBatchMyKMeans"
   ]
  },
  {
   "cell_type": "code",
   "execution_count": 37,
   "metadata": {},
   "outputs": [
    {
     "name": "stdout",
     "output_type": "stream",
     "text": [
      "Cluster: 0\n",
      "Size: 3540\n",
      "football      1.103284\n",
      "basketball    1.042467\n",
      "sports        0.859617\n",
      "softball      0.820814\n",
      "baseball      0.730158\n",
      "dtype: float64\n",
      "==========\n",
      "\n",
      "Cluster: 1\n",
      "Size: 1207\n",
      "volleyball    1.669110\n",
      "baseball      1.224896\n",
      "basketball    0.468791\n",
      "swimming      0.315348\n",
      "church        0.101784\n",
      "dtype: float64\n",
      "==========\n",
      "\n",
      "Cluster: 2\n",
      "Size: 1169\n",
      "dress      3.057303\n",
      "dance      1.384777\n",
      "hair       1.297237\n",
      "clothes    1.050473\n",
      "kissed     0.969674\n",
      "dtype: float64\n",
      "==========\n",
      "\n",
      "Cluster: 3\n",
      "Size: 2034\n",
      "band        1.669273\n",
      "marching    1.571079\n",
      "cute        1.137317\n",
      "music       0.424466\n",
      "dance       0.266088\n",
      "dtype: float64\n",
      "==========\n",
      "\n",
      "Cluster: 4\n",
      "Size: 628\n",
      "sexy        4.522931\n",
      "cute        0.524355\n",
      "clothes     0.305716\n",
      "hair        0.299671\n",
      "shopping    0.293055\n",
      "dtype: float64\n",
      "==========\n",
      "\n",
      "Cluster: 5\n",
      "Size: 554\n",
      "soccer    4.031517\n",
      "rock      2.644015\n",
      "kissed    1.214953\n",
      "hair      0.969799\n",
      "sex       0.962359\n",
      "dtype: float64\n",
      "==========\n",
      "\n",
      "Cluster: 6\n",
      "Size: 2074\n",
      "shopping       1.418329\n",
      "mall           1.389619\n",
      "hot            1.276413\n",
      "hollister      1.227852\n",
      "abercrombie    1.163992\n",
      "dtype: float64\n",
      "==========\n",
      "\n",
      "Cluster: 7\n",
      "Size: 920\n",
      "drunk     2.916901\n",
      "god       2.082045\n",
      "die       1.341261\n",
      "jesus     1.216241\n",
      "church    1.136035\n",
      "dtype: float64\n",
      "==========\n",
      "\n",
      "Cluster: 8\n",
      "Size: 17874\n",
      "blonde   -0.030312\n",
      "tennis   -0.054436\n",
      "jesus    -0.080989\n",
      "death    -0.093478\n",
      "bible    -0.104246\n",
      "dtype: float64\n",
      "==========\n",
      "\n",
      "Wall time: 217 ms\n"
     ]
    }
   ],
   "source": [
    "%%time\n",
    "prediction(MiniBatchKMeans(k=n_clusters, mbatch_size = len(sns) // 10, eps=10))"
   ]
  },
  {
   "cell_type": "code",
   "execution_count": null,
   "metadata": {
    "collapsed": true
   },
   "outputs": [],
   "source": [
    "## MyKMeans++ с MiniBatchMyKMeans"
   ]
  },
  {
   "cell_type": "code",
   "execution_count": 38,
   "metadata": {},
   "outputs": [
    {
     "name": "stdout",
     "output_type": "stream",
     "text": [
      "Cluster: 0\n",
      "Size: 641\n",
      "abercrombie    4.493440\n",
      "hollister      4.364724\n",
      "shopping       0.882396\n",
      "mall           0.827453\n",
      "clothes        0.775052\n",
      "dtype: float64\n",
      "==========\n",
      "\n",
      "Cluster: 1\n",
      "Size: 432\n",
      "softball      6.453889\n",
      "basketball    0.746510\n",
      "volleyball    0.698726\n",
      "sports        0.656167\n",
      "baseball      0.273615\n",
      "dtype: float64\n",
      "==========\n",
      "\n",
      "Cluster: 2\n",
      "Size: 18922\n",
      "blonde   -0.028298\n",
      "jesus    -0.036025\n",
      "god      -0.047977\n",
      "tennis   -0.048714\n",
      "drunk    -0.058593\n",
      "dtype: float64\n",
      "==========\n",
      "\n",
      "Cluster: 3\n",
      "Size: 2067\n",
      "basketball    1.684224\n",
      "soccer        1.239799\n",
      "sports        1.216659\n",
      "baseball      0.863405\n",
      "football      0.483888\n",
      "dtype: float64\n",
      "==========\n",
      "\n",
      "Cluster: 4\n",
      "Size: 817\n",
      "football        3.607420\n",
      "drugs           1.111002\n",
      "baseball        0.732597\n",
      "hair            0.641854\n",
      "cheerleading    0.611315\n",
      "dtype: float64\n",
      "==========\n",
      "\n",
      "Cluster: 5\n",
      "Size: 897\n",
      "dress    4.106376\n",
      "mall     0.710056\n",
      "dance    0.703496\n",
      "cute     0.685462\n",
      "hair     0.598007\n",
      "dtype: float64\n",
      "==========\n",
      "\n",
      "Cluster: 6\n",
      "Size: 1587\n",
      "shopping    2.091834\n",
      "mall        1.100883\n",
      "hot         0.975911\n",
      "clothes     0.820354\n",
      "dance       0.685776\n",
      "dtype: float64\n",
      "==========\n",
      "\n",
      "Cluster: 7\n",
      "Size: 340\n",
      "kissed    5.364011\n",
      "hair      3.579714\n",
      "drugs     3.059762\n",
      "sex       2.886988\n",
      "rock      2.548783\n",
      "dtype: float64\n",
      "==========\n",
      "\n",
      "Cluster: 8\n",
      "Size: 4297\n",
      "band        0.730666\n",
      "marching    0.692706\n",
      "cute        0.457831\n",
      "sexy        0.387389\n",
      "baseball    0.288199\n",
      "dtype: float64\n",
      "==========\n",
      "\n",
      "Wall time: 354 ms\n"
     ]
    }
   ],
   "source": [
    "%%time\n",
    "prediction(MiniBatchKMeans(k=n_clusters, mbatch_size = len(sns) // 10, eps=10, init='k-means++'))"
   ]
  },
  {
   "cell_type": "code",
   "execution_count": null,
   "metadata": {
    "collapsed": true
   },
   "outputs": [],
   "source": [
    "## Вывод"
   ]
  },
  {
   "cell_type": "markdown",
   "metadata": {},
   "source": [
    "Выбрать однозначного лидера не удалось, у каждого алгоритма есть преимущества и недостатки: лучше всего на игрушечных данных отработал k-means++, обычный k-means хорошо делил один кластер на два в силу случайности начального распределения центроидов, преимущества MiniBatch реализации были незаметны, а главным минусом MiniBatch являются дополнительные ручные параметры.\n",
    "\n",
    "При прогонке алгоритмов на реальных данных k-means++ занимает больше всех времени,реализация . Судя по интересам пользователей в кластерах, качество кластеризации во всех случаях сравнимо.\n",
    "Мой топ:\n",
    "1. MiniBatch k-means\n",
    "2. k-means\n",
    "3. k-means++\n"
   ]
  }
 ],
 "metadata": {
  "anaconda-cloud": {},
  "kernelspec": {
   "display_name": "Python 3",
   "language": "python",
   "name": "python3"
  },
  "language_info": {
   "codemirror_mode": {
    "name": "ipython",
    "version": 3
   },
   "file_extension": ".py",
   "mimetype": "text/x-python",
   "name": "python",
   "nbconvert_exporter": "python",
   "pygments_lexer": "ipython3",
   "version": "3.6.4"
  },
  "nav_menu": {},
  "toc": {
   "navigate_menu": true,
   "number_sections": false,
   "sideBar": true,
   "threshold": 6,
   "toc_cell": false,
   "toc_section_display": "block",
   "toc_window_display": true
  }
 },
 "nbformat": 4,
 "nbformat_minor": 2
}
